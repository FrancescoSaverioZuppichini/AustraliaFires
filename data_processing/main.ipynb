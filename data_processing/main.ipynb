{
 "cells": [
  {
   "cell_type": "code",
   "execution_count": 1,
   "metadata": {},
   "outputs": [],
   "source": [
    "%load_ext autoreload\n",
    "%autoreload 2"
   ]
  },
  {
   "cell_type": "code",
   "execution_count": 2,
   "metadata": {},
   "outputs": [],
   "source": [
    "import pandas as pd\n",
    "import matplotlib.pyplot as plt\n",
    "from pathlib import Path\n",
    "from functools import partial"
   ]
  },
  {
   "cell_type": "code",
   "execution_count": 21,
   "metadata": {},
   "outputs": [],
   "source": [
    "DATA_DIR = Path('../data')\n",
    "\n",
    "files = DATA_DIR.glob('*.txt')\n",
    "df = pd.concat(map(partial(pd.read_csv, parse_dates=['acq_date']), files))"
   ]
  },
  {
   "cell_type": "code",
   "execution_count": 32,
   "metadata": {
    "scrolled": false
   },
   "outputs": [
    {
     "data": {
      "text/html": [
       "<div>\n",
       "<style scoped>\n",
       "    .dataframe tbody tr th:only-of-type {\n",
       "        vertical-align: middle;\n",
       "    }\n",
       "\n",
       "    .dataframe tbody tr th {\n",
       "        vertical-align: top;\n",
       "    }\n",
       "\n",
       "    .dataframe thead th {\n",
       "        text-align: right;\n",
       "    }\n",
       "</style>\n",
       "<table border=\"1\" class=\"dataframe\">\n",
       "  <thead>\n",
       "    <tr style=\"text-align: right;\">\n",
       "      <th></th>\n",
       "      <th>latitude</th>\n",
       "      <th>longitude</th>\n",
       "      <th>brightness</th>\n",
       "      <th>scan</th>\n",
       "      <th>track</th>\n",
       "      <th>acq_date</th>\n",
       "      <th>acq_time</th>\n",
       "      <th>satellite</th>\n",
       "      <th>confidence</th>\n",
       "      <th>version</th>\n",
       "      <th>bright_t31</th>\n",
       "      <th>frp</th>\n",
       "      <th>daynight</th>\n",
       "    </tr>\n",
       "  </thead>\n",
       "  <tbody>\n",
       "    <tr>\n",
       "      <th>0</th>\n",
       "      <td>-19.419</td>\n",
       "      <td>138.621</td>\n",
       "      <td>341.5</td>\n",
       "      <td>1.3</td>\n",
       "      <td>1.1</td>\n",
       "      <td>2019-12-28</td>\n",
       "      <td>01:15</td>\n",
       "      <td>T</td>\n",
       "      <td>85</td>\n",
       "      <td>6.0NRT</td>\n",
       "      <td>311.7</td>\n",
       "      <td>33.5</td>\n",
       "      <td>D</td>\n",
       "    </tr>\n",
       "    <tr>\n",
       "      <th>1</th>\n",
       "      <td>-26.471</td>\n",
       "      <td>125.788</td>\n",
       "      <td>331.9</td>\n",
       "      <td>2.4</td>\n",
       "      <td>1.5</td>\n",
       "      <td>2019-12-28</td>\n",
       "      <td>01:15</td>\n",
       "      <td>T</td>\n",
       "      <td>50</td>\n",
       "      <td>6.0NRT</td>\n",
       "      <td>312.7</td>\n",
       "      <td>26.2</td>\n",
       "      <td>D</td>\n",
       "    </tr>\n",
       "    <tr>\n",
       "      <th>2</th>\n",
       "      <td>-26.464</td>\n",
       "      <td>125.782</td>\n",
       "      <td>333.6</td>\n",
       "      <td>2.4</td>\n",
       "      <td>1.5</td>\n",
       "      <td>2019-12-28</td>\n",
       "      <td>01:15</td>\n",
       "      <td>T</td>\n",
       "      <td>65</td>\n",
       "      <td>6.0NRT</td>\n",
       "      <td>313.4</td>\n",
       "      <td>36.0</td>\n",
       "      <td>D</td>\n",
       "    </tr>\n",
       "    <tr>\n",
       "      <th>3</th>\n",
       "      <td>-27.679</td>\n",
       "      <td>128.172</td>\n",
       "      <td>370.0</td>\n",
       "      <td>1.6</td>\n",
       "      <td>1.2</td>\n",
       "      <td>2019-12-28</td>\n",
       "      <td>01:15</td>\n",
       "      <td>T</td>\n",
       "      <td>100</td>\n",
       "      <td>6.0NRT</td>\n",
       "      <td>321.0</td>\n",
       "      <td>174.1</td>\n",
       "      <td>D</td>\n",
       "    </tr>\n",
       "    <tr>\n",
       "      <th>4</th>\n",
       "      <td>-27.682</td>\n",
       "      <td>128.188</td>\n",
       "      <td>395.9</td>\n",
       "      <td>1.6</td>\n",
       "      <td>1.2</td>\n",
       "      <td>2019-12-28</td>\n",
       "      <td>01:15</td>\n",
       "      <td>T</td>\n",
       "      <td>100</td>\n",
       "      <td>6.0NRT</td>\n",
       "      <td>329.7</td>\n",
       "      <td>388.6</td>\n",
       "      <td>D</td>\n",
       "    </tr>\n",
       "    <tr>\n",
       "      <th>...</th>\n",
       "      <td>...</td>\n",
       "      <td>...</td>\n",
       "      <td>...</td>\n",
       "      <td>...</td>\n",
       "      <td>...</td>\n",
       "      <td>...</td>\n",
       "      <td>...</td>\n",
       "      <td>...</td>\n",
       "      <td>...</td>\n",
       "      <td>...</td>\n",
       "      <td>...</td>\n",
       "      <td>...</td>\n",
       "      <td>...</td>\n",
       "    </tr>\n",
       "    <tr>\n",
       "      <th>3158</th>\n",
       "      <td>-31.449</td>\n",
       "      <td>151.829</td>\n",
       "      <td>355.4</td>\n",
       "      <td>1.9</td>\n",
       "      <td>1.4</td>\n",
       "      <td>2019-12-04</td>\n",
       "      <td>23:35</td>\n",
       "      <td>T</td>\n",
       "      <td>97</td>\n",
       "      <td>6.0NRT</td>\n",
       "      <td>306.8</td>\n",
       "      <td>165.5</td>\n",
       "      <td>D</td>\n",
       "    </tr>\n",
       "    <tr>\n",
       "      <th>3159</th>\n",
       "      <td>-31.453</td>\n",
       "      <td>151.849</td>\n",
       "      <td>336.3</td>\n",
       "      <td>1.9</td>\n",
       "      <td>1.4</td>\n",
       "      <td>2019-12-04</td>\n",
       "      <td>23:35</td>\n",
       "      <td>T</td>\n",
       "      <td>65</td>\n",
       "      <td>6.0NRT</td>\n",
       "      <td>304.6</td>\n",
       "      <td>65.6</td>\n",
       "      <td>D</td>\n",
       "    </tr>\n",
       "    <tr>\n",
       "      <th>3160</th>\n",
       "      <td>-35.507</td>\n",
       "      <td>149.999</td>\n",
       "      <td>374.3</td>\n",
       "      <td>2.0</td>\n",
       "      <td>1.4</td>\n",
       "      <td>2019-12-04</td>\n",
       "      <td>23:35</td>\n",
       "      <td>T</td>\n",
       "      <td>0</td>\n",
       "      <td>6.0NRT</td>\n",
       "      <td>269.8</td>\n",
       "      <td>356.1</td>\n",
       "      <td>D</td>\n",
       "    </tr>\n",
       "    <tr>\n",
       "      <th>3161</th>\n",
       "      <td>-35.507</td>\n",
       "      <td>149.992</td>\n",
       "      <td>373.4</td>\n",
       "      <td>2.0</td>\n",
       "      <td>1.4</td>\n",
       "      <td>2019-12-04</td>\n",
       "      <td>23:35</td>\n",
       "      <td>T</td>\n",
       "      <td>0</td>\n",
       "      <td>6.0NRT</td>\n",
       "      <td>269.8</td>\n",
       "      <td>347.9</td>\n",
       "      <td>D</td>\n",
       "    </tr>\n",
       "    <tr>\n",
       "      <th>3162</th>\n",
       "      <td>-35.512</td>\n",
       "      <td>150.014</td>\n",
       "      <td>332.7</td>\n",
       "      <td>2.0</td>\n",
       "      <td>1.4</td>\n",
       "      <td>2019-12-04</td>\n",
       "      <td>23:35</td>\n",
       "      <td>T</td>\n",
       "      <td>0</td>\n",
       "      <td>6.0NRT</td>\n",
       "      <td>268.0</td>\n",
       "      <td>79.5</td>\n",
       "      <td>D</td>\n",
       "    </tr>\n",
       "  </tbody>\n",
       "</table>\n",
       "<p>122822 rows × 13 columns</p>\n",
       "</div>"
      ],
      "text/plain": [
       "      latitude  longitude  brightness  scan  track   acq_date acq_time  \\\n",
       "0      -19.419    138.621       341.5   1.3    1.1 2019-12-28    01:15   \n",
       "1      -26.471    125.788       331.9   2.4    1.5 2019-12-28    01:15   \n",
       "2      -26.464    125.782       333.6   2.4    1.5 2019-12-28    01:15   \n",
       "3      -27.679    128.172       370.0   1.6    1.2 2019-12-28    01:15   \n",
       "4      -27.682    128.188       395.9   1.6    1.2 2019-12-28    01:15   \n",
       "...        ...        ...         ...   ...    ...        ...      ...   \n",
       "3158   -31.449    151.829       355.4   1.9    1.4 2019-12-04    23:35   \n",
       "3159   -31.453    151.849       336.3   1.9    1.4 2019-12-04    23:35   \n",
       "3160   -35.507    149.999       374.3   2.0    1.4 2019-12-04    23:35   \n",
       "3161   -35.507    149.992       373.4   2.0    1.4 2019-12-04    23:35   \n",
       "3162   -35.512    150.014       332.7   2.0    1.4 2019-12-04    23:35   \n",
       "\n",
       "     satellite  confidence version  bright_t31    frp daynight  \n",
       "0            T          85  6.0NRT       311.7   33.5        D  \n",
       "1            T          50  6.0NRT       312.7   26.2        D  \n",
       "2            T          65  6.0NRT       313.4   36.0        D  \n",
       "3            T         100  6.0NRT       321.0  174.1        D  \n",
       "4            T         100  6.0NRT       329.7  388.6        D  \n",
       "...        ...         ...     ...         ...    ...      ...  \n",
       "3158         T          97  6.0NRT       306.8  165.5        D  \n",
       "3159         T          65  6.0NRT       304.6   65.6        D  \n",
       "3160         T           0  6.0NRT       269.8  356.1        D  \n",
       "3161         T           0  6.0NRT       269.8  347.9        D  \n",
       "3162         T           0  6.0NRT       268.0   79.5        D  \n",
       "\n",
       "[122822 rows x 13 columns]"
      ]
     },
     "execution_count": 32,
     "metadata": {},
     "output_type": "execute_result"
    }
   ],
   "source": [
    "df"
   ]
  },
  {
   "cell_type": "markdown",
   "metadata": {},
   "source": [
    "## Counting Fires"
   ]
  },
  {
   "cell_type": "code",
   "execution_count": 34,
   "metadata": {},
   "outputs": [
    {
     "data": {
      "text/plain": [
       "<matplotlib.axes._subplots.AxesSubplot at 0x7f4f509d0610>"
      ]
     },
     "execution_count": 34,
     "metadata": {},
     "output_type": "execute_result"
    },
    {
     "data": {
      "image/png": "[encoded data removed]",
      "text/plain": [
       "<Figure size 432x288 with 1 Axes>"
      ]
     },
     "metadata": {
      "needs_background": "light"
     },
     "output_type": "display_data"
    }
   ],
   "source": [
    "df.groupby(df.set_index(df.acq_date).index.month).count().latitude.plot.bar()"
   ]
  },
  {
   "cell_type": "markdown",
   "metadata": {},
   "source": [
    "## Counting KMs\n",
    "\n",
    "#### TODO\n",
    "\n",
    "- [ ] ask Francesco"
   ]
  },
  {
   "cell_type": "code",
   "execution_count": 35,
   "metadata": {},
   "outputs": [],
   "source": [
    "import seaborn as sns"
   ]
  },
  {
   "cell_type": "markdown",
   "metadata": {},
   "source": [
    "## Export"
   ]
  },
  {
   "cell_type": "code",
   "execution_count": 87,
   "metadata": {},
   "outputs": [],
   "source": [
    "df.to_csv(DATA_DIR / 'data.csv', header=False, index=False)"
   ]
  },
  {
   "cell_type": "markdown",
   "metadata": {},
   "source": [
    "## Import to Mongo"
   ]
  },
  {
   "cell_type": "code",
   "execution_count": 92,
   "metadata": {
    "scrolled": false
   },
   "outputs": [
    {
     "name": "stdout",
     "output_type": "stream",
     "text": [
      "2020-01-22T21:10:21.081+0100\tconnected to: localhost\n",
      "2020-01-22T21:10:21.081+0100\tdropping: fires.fires\n",
      "2020-01-22T21:10:22.846+0100\timported 122822 documents\n"
     ]
    }
   ],
   "source": [
    "!mongoimport --collection=fires --db=fires --file='/home/francesco/Documents/AustraliaFires/data/data.csv' --type=csv  --drop --columnsHaveTypes --fields=\"latitude.double(),longitude.double(),brightness.double(),scan.double(),track.double(),acq_date.date(2006-01-02),acq_time.string(),satellite.string(),confidence.int32(),version.string(),bright_t31.double(),frp.double(),daynight.string()\" "
   ]
  },
  {
   "cell_type": "code",
   "execution_count": 3,
   "metadata": {},
   "outputs": [],
   "source": [
    "from pymongo import MongoClient \n",
    "\n",
    "client = MongoClient()\n",
    "db = client.fires\n",
    "fires = db.fires"
   ]
  },
  {
   "cell_type": "markdown",
   "metadata": {},
   "source": [
    "### Getting them back"
   ]
  },
  {
   "cell_type": "code",
   "execution_count": 4,
   "metadata": {
    "scrolled": true
   },
   "outputs": [
    {
     "data": {
      "text/plain": [
       "{'_id': ObjectId('5e28ac2d8af1573f087dddf2'),\n",
       " 'latitude': -19.419,\n",
       " 'longitude': 138.621,\n",
       " 'brightness': 341.5,\n",
       " 'scan': 1.3,\n",
       " 'track': 1.1,\n",
       " 'acq_date': datetime.datetime(2019, 12, 28, 0, 0),\n",
       " 'acq_time': '01:15',\n",
       " 'satellite': 'T',\n",
       " 'confidence': 85,\n",
       " 'version': '6.0NRT',\n",
       " 'bright_t31': 311.7,\n",
       " 'frp': 33.5,\n",
       " 'daynight': 'D'}"
      ]
     },
     "execution_count": 4,
     "metadata": {},
     "output_type": "execute_result"
    }
   ],
   "source": [
    "fires.find_one({})"
   ]
  },
  {
   "cell_type": "code",
   "execution_count": null,
   "metadata": {},
   "outputs": [],
   "source": []
  }
 ],
 "metadata": {
  "kernelspec": {
   "display_name": "Python 3",
   "language": "python",
   "name": "python3"
  },
  "language_info": {
   "codemirror_mode": {
    "name": "ipython",
    "version": 3
   },
   "file_extension": ".py",
   "mimetype": "text/x-python",
   "name": "python",
   "nbconvert_exporter": "python",
   "pygments_lexer": "ipython3",
   "version": "3.7.5"
  }
 },
 "nbformat": 4,
 "nbformat_minor": 2
}
